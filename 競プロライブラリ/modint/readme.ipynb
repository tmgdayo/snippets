{
 "cells": [
  {
   "cell_type": "markdown",
   "metadata": {},
   "source": [
    "# modint\n",
    "\n",
    "更新日：2021/5/22"
   ]
  },
  {
   "cell_type": "markdown",
   "metadata": {},
   "source": [
    "###### 依存ライブラリ\n",
    "なし\n",
    "###### スニペット呼び出しコマンド\n",
    "clmint"
   ]
  },
  {
   "cell_type": "markdown",
   "metadata": {},
   "source": [
    "## 1. 概要\n",
    "___\n",
    "自然数 𝑀 を法とする四則演算を行う構造体。"
   ]
  },
  {
   "cell_type": "markdown",
   "metadata": {},
   "source": [
    "## 2. 計算量\n",
    "***\n",
    "- 加減乗算：$O(1)$\n",
    "- 除算・逆元：$O(M)$（$M$が素数の場合のみ）\n",
    "- 累乗：$O(\\log N)$"
   ]
  },
  {
   "cell_type": "markdown",
   "metadata": {},
   "source": [
    "## 3.  使い方\n",
    "___\n",
    "### 3-1. 定義関連\n",
    "#### ・制約\n",
    " - $v$：数値（int、long long、unsigned int、unsigned long long）\n",
    " - $1 \\leq M < 2^{31}$：除数（unsigned int） \n",
    " - $0 \\leq N < 2^{63}$：累乗する指数（long long） \n",
    " \n",
    "#### ・入力例\n",
    "$M = 7$のときを考える。\n",
    "入力は以下の形式で与える。\n",
    "\n",
    "$a\\ b \\ N$"
   ]
  },
  {
   "cell_type": "markdown",
   "metadata": {},
   "source": [
    "```\n",
    "2 6 4\n",
    "```"
   ]
  },
  {
   "cell_type": "markdown",
   "metadata": {
    "collapsed": true
   },
   "source": [
    "#### ・入出力\n",
    "<code>cin</code>で入力、<code>cout</code>で出力可能。"
   ]
  },
  {
   "cell_type": "markdown",
   "metadata": {
    "collapsed": true
   },
   "source": [
    "```\n",
    "static const unsigned int mod = 7; // 除数を7に設定（static）\n",
    "using mint = modint<mod>; // 7を法とする構造体mintを定義\n",
    "\n",
    "int main() {\n",
    "    mint a, b;\n",
    "    long long N;    \n",
    "    cin >> a >> b >> N;\n",
    "    \n",
    "    cout << a << \" \" << b << endl;\n",
    "}\n",
    "```"
   ]
  },
  {
   "cell_type": "markdown",
   "metadata": {},
   "source": [
    "```\n",
    "2 6\n",
    "```"
   ]
  },
  {
   "cell_type": "markdown",
   "metadata": {
    "collapsed": true
   },
   "source": [
    "### 3-2. 各種計算\n",
    "#### ・四則演算\n",
    "<code>+</code>、<code>-</code>、<code>*</code>、<code>/</code>は全てサポートしている。（<code>/</code>は$M$が素数のときのみ）\n",
    "\n",
    "また、<code>+=</code>、<code>-=</code>、<code>*=</code>、<code>/=</code>、<code>==</code>、<code>!=</code>もサポートしている。\n",
    "\n",
    "$a + b,\\ a - b,\\ a * b,\\ a \\ / \\ b\\ $を$\\ mod\\ M\\ $でそれぞれ計算すると以下のとおり。"
   ]
  },
  {
   "cell_type": "markdown",
   "metadata": {},
   "source": [
    "```\n",
    "    cout << a + b << endl; // 2 + 6\n",
    "    cout << a - b << endl; // 2 - 6\n",
    "    cout << a * b << endl; // 2 * 6\n",
    "    cout << a / b << endl; // 2 / 6\n",
    "```"
   ]
  },
  {
   "cell_type": "markdown",
   "metadata": {},
   "source": [
    "```\n",
    "1\n",
    "3\n",
    "5\n",
    "5\n",
    "```"
   ]
  },
  {
   "cell_type": "markdown",
   "metadata": {},
   "source": [
    "#### ・逆元\n",
    "mint型の変数$v$に対し、<code>v.inv()</code>で$v^{-1} \\ mod\\ M$を計算できる。（$M$が素数のときのみ）"
   ]
  },
  {
   "cell_type": "markdown",
   "metadata": {},
   "source": [
    "```\n",
    "    cout << a.inv() << endl; // 2の逆元\n",
    "```"
   ]
  },
  {
   "cell_type": "markdown",
   "metadata": {},
   "source": [
    "```\n",
    "4\n",
    "```"
   ]
  },
  {
   "cell_type": "markdown",
   "metadata": {},
   "source": [
    "#### ・累乗\n",
    "mint型の変数$v$、long long型の変数$N$に対し、<code>v.pow(n)</code>で$v^N\\ mod\\ M$を計算できる。"
   ]
  },
  {
   "cell_type": "markdown",
   "metadata": {},
   "source": [
    "```\n",
    "    cout << a.pow(n) << endl; // pow(2, 4)\n",
    "```"
   ]
  },
  {
   "cell_type": "markdown",
   "metadata": {},
   "source": [
    "```\n",
    "2\n",
    "```"
   ]
  },
  {
   "cell_type": "markdown",
   "metadata": {},
   "source": [
    "## 4.  課題とか\n",
    "___\n",
    "- ${\\log}_a b$の計算\n",
    "\n",
    "    ⇒ Baby-Step Giant-Step 法で求められるらしい。~~~何に使うのかはわからないが・・・~~~\n",
    "    \n",
    "\n",
    "- $\\sqrt{v}$の計算\n",
    "\n",
    "    ⇒ Tonelli-Shanksのアルゴリズムで求められるらしい。~~~何に使うのかはわからないが・・・~~~"
   ]
  },
  {
   "cell_type": "markdown",
   "metadata": {},
   "source": [
    "## 5.  実装\n",
    "以下のディレクティブ（もしくはそれに準ずるもの）が必要です。\n",
    "- #include <bits/stdc++.h>\n",
    "- using namespace std;"
   ]
  },
  {
   "cell_type": "markdown",
   "metadata": {},
   "source": [
    "```\n",
    "template <unsigned int mod> struct modint {\n",
    "    unsigned int val;\n",
    "    // _mod < 2^31である必要あり\n",
    "    // _modが素数でないときは割り算ができない\n",
    "    modint() : val(0) {}\n",
    "    template <class T> modint(T v) {\n",
    "        if (v >= 0) {\n",
    "            if (v < (T)mod) {\n",
    "                val = (unsigned int)(v);\n",
    "            } else {\n",
    "                val = (unsigned int)(v % (long long)mod);\n",
    "            }\n",
    "        } else {\n",
    "            if (-v > (T)mod) {\n",
    "                val = (unsigned int)(v + mod);\n",
    "            } else {\n",
    "                val = (unsigned int)(v % (long long)mod + mod);\n",
    "            }\n",
    "        }\n",
    "    }\n",
    "    // 単項演算子++の定義\n",
    "    modint& operator++() {\n",
    "        val++;\n",
    "        if (val == mod) val = 0;\n",
    "        return *this;\n",
    "    }\n",
    "    // 単項演算子--の定義\n",
    "    modint& operator--() {\n",
    "        if (!val) val = mod;\n",
    "        val--;\n",
    "        return *this;\n",
    "    }\n",
    "    // 二項演算子++の定義\n",
    "    modint operator++(int) {\n",
    "        modint result = *this;\n",
    "        ++*this;\n",
    "        return result;\n",
    "    }\n",
    "    // 二項演算子--の定義\n",
    "    modint operator--(int) {\n",
    "        modint result = *this;\n",
    "        --*this;\n",
    "        return result;\n",
    "    }\n",
    "    // +=の定義\n",
    "    modint& operator+=(const modint& rhs) {\n",
    "        val += rhs.val;\n",
    "        if (val >= mod) val -= mod;\n",
    "        return *this;\n",
    "    }\n",
    "    // -=の定義\n",
    "    modint& operator-=(const modint& rhs) {\n",
    "        if (val < rhs.val) val += mod;\n",
    "        val -= rhs.val;\n",
    "        return *this;\n",
    "    }\n",
    "    // *=の定義\n",
    "    modint& operator*=(const modint& rhs) {\n",
    "        unsigned long long v = val;\n",
    "        v *= rhs.val;\n",
    "        val = (unsigned int)(v % mod);\n",
    "        return *this;\n",
    "    }\n",
    "    // /=の定義\n",
    "    modint& operator/=(const modint& rhs) { return *this = *this * rhs.inv(); }\n",
    "    // 単項演算子boolの定義\n",
    "    explicit operator bool() const { return val; }\n",
    "    // 単項演算子-の定義\n",
    "    bool operator!() const { return !val; }\n",
    "    // 二項演算子+の定義\n",
    "    friend modint operator+(const modint& lhs, const modint& rhs) {\n",
    "        return modint(lhs) += rhs;\n",
    "    }\n",
    "    // 二項演算子-の定義\n",
    "    friend modint operator-(const modint& lhs, const modint& rhs) {\n",
    "        return modint(lhs) -= rhs;\n",
    "    }\n",
    "    // 二項演算子*の定義\n",
    "    friend modint operator*(const modint& lhs, const modint& rhs) {\n",
    "        return modint(lhs) *= rhs;\n",
    "    }\n",
    "    // 二項演算子/の定義\n",
    "    friend modint operator/(const modint& lhs, const modint& rhs) {\n",
    "        return modint(lhs) /= rhs;\n",
    "    }\n",
    "    // 二項演算子==の定義\n",
    "    friend bool operator==(const modint& lhs, const modint& rhs) {\n",
    "        return lhs.val == rhs.val;\n",
    "    }\n",
    "    // 二項演算子!=の定義\n",
    "    friend bool operator!=(const modint& lhs, const modint& rhs) {\n",
    "        return lhs.val != rhs.val;\n",
    "    }\n",
    "    // 単項演算子+の定義\n",
    "    modint operator+() const { return *this; }\n",
    "    // 単項演算子-の定義\n",
    "    modint operator-() const { return modint() - *this; }\n",
    "    // cinによる入力\n",
    "    friend istream& operator>>(istream& is, modint& rhs) {\n",
    "        long long v;\n",
    "        istream& ret = is >> v;\n",
    "        if (v >= 0) {\n",
    "            if (v < mod) {\n",
    "                rhs.val = (unsigned int)(v);\n",
    "            } else {\n",
    "                rhs.val = (unsigned int)(v % (long long)mod);\n",
    "            }\n",
    "        } else {\n",
    "            if (-v > mod) {\n",
    "                rhs.val = (unsigned int)(v + mod);\n",
    "            } else {\n",
    "                rhs.val = (unsigned int)(v % (long long)mod + mod);\n",
    "            }\n",
    "        }\n",
    "        return ret;\n",
    "    }\n",
    "    // coutによる出力\n",
    "    friend ostream& operator<<(ostream& os, const modint& rhs) {\n",
    "        return os << rhs.val;\n",
    "    }\n",
    "    // powの定義、使う演算子は既にmodint内で定義しているのでintのときと同様でOK\n",
    "    modint pow(long long n) const {\n",
    "        modint x(val), r(1);\n",
    "        while (n) {\n",
    "            if (n & 1) r *= x;\n",
    "            x *= x;\n",
    "            n >>= 1;\n",
    "        }\n",
    "        return r;\n",
    "    }\n",
    "    // 逆元を出力\n",
    "    modint inv() const {\n",
    "        modint x(val), r(1);\n",
    "        unsigned int n = mod - 2;\n",
    "        while (n) {\n",
    "            if (n & 1) r *= x;\n",
    "            x *= x;\n",
    "            n >>= 1;\n",
    "        }\n",
    "        return r;\n",
    "    }\n",
    "    // modを出力\n",
    "    unsigned int mod_() const { return mod; }\n",
    "};\n",
    "```"
   ]
  },
  {
   "cell_type": "markdown",
   "metadata": {},
   "source": [
    "## 6. verify"
   ]
  },
  {
   "cell_type": "markdown",
   "metadata": {},
   "source": [
    "特にしていません・・・"
   ]
  }
 ],
 "metadata": {
  "kernelspec": {
   "display_name": "Python 3",
   "language": "python",
   "name": "python3"
  },
  "language_info": {
   "codemirror_mode": {
    "name": "ipython",
    "version": 3
   },
   "file_extension": ".py",
   "mimetype": "text/x-python",
   "name": "python",
   "nbconvert_exporter": "python",
   "pygments_lexer": "ipython3",
   "version": "3.7.6"
  }
 },
 "nbformat": 4,
 "nbformat_minor": 4
}
