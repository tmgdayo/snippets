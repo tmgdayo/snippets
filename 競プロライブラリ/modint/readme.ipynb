{
 "cells": [
  {
   "cell_type": "markdown",
   "metadata": {},
   "source": [
    "# modint\n",
    "\n",
    "更新日：2021/5/22"
   ]
  },
  {
   "cell_type": "markdown",
   "metadata": {},
   "source": [
    "###### 依存ライブラリ\n",
    "なし\n",
    "###### スニペット呼び出しコマンド\n",
    "clmint"
   ]
  },
  {
   "cell_type": "markdown",
   "metadata": {},
   "source": [
    "## 1. 概要\n",
    "___\n",
    "自然数 𝑀 を法とする四則演算を行う構造体。"
   ]
  },
  {
   "cell_type": "markdown",
   "metadata": {},
   "source": [
    "## 2. 計算量\n",
    "***\n",
    "- 加減乗算：$O(1)$\n",
    "- 除算・逆元：$O(M)$（$M$が素数の場合のみ）\n",
    "- 累乗：$O(\\log N)$"
   ]
  },
  {
   "cell_type": "markdown",
   "metadata": {},
   "source": [
    "## 3.  使い方\n",
    "___\n",
    "### 3-1. 定義関連\n",
    "#### ・制約\n",
    " - $v$：数値（int、long long、unsigned int、unsigned long long）\n",
    " - $1 \\leq M < 2^{31}$：除数（unsigned int） \n",
    " - $0 \\leq N < 2^{63}$：累乗する指数（long long） \n",
    " \n",
    "#### ・入力例\n",
    "$M = 7$のときを考える。\n",
    "入力は以下の形式で与える。\n",
    "\n",
    "$a\\ b \\ N$"
   ]
  },
  {
   "cell_type": "markdown",
   "metadata": {},
   "source": [
    "<div style=\"padding: 10px; background-color: #334340; color: #ffffff; font-family: monospace ;\">\n",
    "    2 6 4\n",
    "</div>"
   ]
  },
  {
   "cell_type": "markdown",
   "metadata": {
    "collapsed": true
   },
   "source": [
    "#### ・入出力\n",
    "<code>cin</code>で入力、<code>cout</code>で出力可能。"
   ]
  },
  {
   "cell_type": "markdown",
   "metadata": {
    "collapsed": true
   },
   "source": [
    "<div style=\"padding: 10px; background-color: #334340; color: #ffffff; font-family: monospace ;\">\n",
    "static const unsigned int mod = 7; // 除数を7に設定（static）<br />\n",
    "using mint = modint<mod>; // 7を法とする構造体mintを定義<br />\n",
    "\n",
    "int main() {<br/>\n",
    "    mint a, b;<br/>\n",
    "    long long N;<br/>\n",
    "    cin >> a >> b >> N;<br/>\n",
    "    <br/>\n",
    "    cout << a << \" \" << b << endl;<br/>\n",
    "}<br/>\n",
    "<div/>"
   ]
  },
  {
   "cell_type": "markdown",
   "metadata": {},
   "source": [
    "<div style=\"padding: 10px; background-color: #334340; color: #ffffff; font-family: monospace ;\">\n",
    "2 6\n",
    "<div/>"
   ]
  },
  {
   "cell_type": "markdown",
   "metadata": {
    "collapsed": true
   },
   "source": [
    "### 3-2. 各種計算\n",
    "#### ・四則演算\n",
    "<code>+</code>、<code>-</code>、<code>*</code>、<code>/</code>は全てサポートしている。（<code>/</code>は$M$が素数のときのみ）\n",
    "\n",
    "また、<code>+=</code>、<code>-=</code>、<code>*=</code>、<code>/=</code>、<code>==</code>、<code>!=</code>もサポートしている。"
   ]
  },
  {
   "cell_type": "markdown",
   "metadata": {},
   "source": [
    "$a + b,\\ a - b,\\ a * b,\\ a \\ / \\ b\\ $を$\\ mod\\ M\\ $でそれぞれ計算すると以下のとおり。"
   ]
  },
  {
   "cell_type": "markdown",
   "metadata": {},
   "source": [
    "<div style=\"padding: 10px; background-color: #334340; color: #ffffff; font-family: monospace ;\">\n",
    "cout << a + b << endl; // 2 + 6<br/>\n",
    "cout << a - b << endl; // 2 - 6<br/>\n",
    "cout << a * b << endl; // 2 * 6<br/>\n",
    "cout << a / b << endl; // 2 / 6<br/>\n",
    "<div/>"
   ]
  },
  {
   "cell_type": "markdown",
   "metadata": {},
   "source": [
    "<div style=\"padding: 10px; background-color: #334340; color: #ffffff; font-family: monospace ;\">\n",
    "1<br/>\n",
    "3<br/>\n",
    "5<br/>\n",
    "5<br/>\n",
    "<div/>"
   ]
  },
  {
   "cell_type": "markdown",
   "metadata": {},
   "source": [
    "#### ・逆元\n",
    "mint型の変数$v$に対し、<code>v.inv()</code>で$v^{-1} \\ mod\\ M$を計算できる。（$M$が素数のときのみ）"
   ]
  },
  {
   "cell_type": "markdown",
   "metadata": {},
   "source": [
    "<div style=\"padding: 10px; background-color: #334340; color: #ffffff; font-family: monospace ;\">\n",
    "cout << a.inv() << endl; // 2の逆元\n",
    "<div/>"
   ]
  },
  {
   "cell_type": "markdown",
   "metadata": {},
   "source": [
    "<div style=\"padding: 10px; background-color: #334340; color: #ffffff; font-family: monospace ;\">\n",
    "4\n",
    "<div/>"
   ]
  },
  {
   "cell_type": "markdown",
   "metadata": {},
   "source": [
    "#### ・累乗\n",
    "mint型の変数$v$、long long型の変数$N$に対し、<code>v.pow(n)</code>で$v^N\\ mod\\ M$を計算できる。"
   ]
  },
  {
   "cell_type": "markdown",
   "metadata": {},
   "source": [
    "<div style=\"padding: 10px; background-color: #334340; color: #ffffff; font-family: monospace ;\">\n",
    "cout << a.pow(n) << endl; // pow(2, 4)\n",
    "<div/>"
   ]
  },
  {
   "cell_type": "markdown",
   "metadata": {},
   "source": [
    "<div style=\"padding: 10px; background-color: #334340; color: #ffffff; font-family: monospace ;\">\n",
    "2\n",
    "</div>"
   ]
  },
  {
   "cell_type": "markdown",
   "metadata": {},
   "source": [
    "## 4.  課題とか\n",
    "___\n",
    "- ${\\log}_a b$の計算\n",
    "\n",
    "    ⇒ Baby-Step Giant-Step 法で求められるらしい。~~~何に使うのかはわからないが・・・~~~\n",
    "    \n",
    "\n",
    "- $\\sqrt{v}$の計算\n",
    "\n",
    "    ⇒ Tonelli-Shanksのアルゴリズムで求められるらしい。~~~何に使うのかはわからないが・・・~~~"
   ]
  },
  {
   "cell_type": "markdown",
   "metadata": {},
   "source": [
    "## 5.  実装\n",
    "以下のディレクティブ（もしくはそれに準ずるもの）が必要です。\n",
    "- #include <bits/stdc++.h>\n",
    "- using namespace std;"
   ]
  },
  {
   "cell_type": "markdown",
   "metadata": {},
   "source": [
    "<div style=\"padding: 10px; background-color: #334340; color: #ffffff; font-family: monospace ;\">\n",
    "template <unsigned int mod> struct modint {<br/>\n",
    "    unsigned int val;<br/>\n",
    "    // _mod < 2^31である必要あり<br/>\n",
    "    // _modが素数でないときは割り算ができない<br/>\n",
    "    modint() : val(0) {}<br/>\n",
    "    template <class T> modint(T v) {<br/>\n",
    "        if (v >= 0) {<br/>\n",
    "            if (v < (T)mod) {<br/>\n",
    "                val = (unsigned int)(v);<br/>\n",
    "            } else {\n",
    "                val = (unsigned int)(v % (long long)mod);<br/>\n",
    "            }<br/>\n",
    "        } else {<br/>\n",
    "            if (-v > (T)mod) {<br/>\n",
    "                val = (unsigned int)(v + mod);<br/>\n",
    "            } else {<br/>\n",
    "                val = (unsigned int)(v % (long long)mod + mod);<br/>\n",
    "            }<br/>\n",
    "        }<br/>\n",
    "    }<br/>\n",
    "    // 単項演算子++の定義<br/>\n",
    "    modint& operator++() {<br/>\n",
    "        val++;<br/>\n",
    "        if (val == mod) val = 0;<br/>\n",
    "        return *this;<br/>\n",
    "    }<br/>\n",
    "    // 単項演算子--の定義<br/>\n",
    "    modint& operator--() {<br/>\n",
    "        if (!val) val = mod;<br/>\n",
    "        val--;<br/>\n",
    "        return *this;<br/>\n",
    "    }<br/>\n",
    "    // 二項演算子++の定義<br/>\n",
    "    modint operator++(int) {<br/>\n",
    "        modint result = *this;<br/>\n",
    "        ++*this;<br/>\n",
    "        return result;<br/>\n",
    "    }<br/>\n",
    "    // 二項演算子--の定義<br/>\n",
    "    modint operator--(int) {<br/>\n",
    "        modint result = *this;<br/>\n",
    "        --*this;<br/>\n",
    "        return result;<br/>\n",
    "    }<br/>\n",
    "    // +=の定義<br/>\n",
    "    modint& operator+=(const modint& rhs) {<br/>\n",
    "        val += rhs.val;<br/>\n",
    "        if (val >= mod) val -= mod;<br/>\n",
    "        return *this;<br/>\n",
    "    }<br/>\n",
    "    // -=の定義<br/>\n",
    "    modint& operator-=(const modint& rhs) {<br/>\n",
    "        if (val < rhs.val) val += mod;<br/>\n",
    "        val -= rhs.val;<br/>\n",
    "        return *this;<br/>\n",
    "    }<br/>\n",
    "    // *=の定義<br/>\n",
    "    modint& operator*=(const modint& rhs) {<br/>\n",
    "        unsigned long long v = val;<br/>\n",
    "        v *= rhs.val;<br/>\n",
    "        val = (unsigned int)(v % mod);<br/>\n",
    "        return *this;<br/>\n",
    "    }<br/>\n",
    "    // /=の定義<br/>\n",
    "    modint& operator/=(const modint& rhs) { return *this = *this * rhs.inv(); }<br/>\n",
    "    // 単項演算子boolの定義<br/>\n",
    "    explicit operator bool() const { return val; }<br/>\n",
    "    // 単項演算子-の定義<br/>\n",
    "    bool operator!() const { return !val; }<br/>\n",
    "    // 二項演算子+の定義<br/>\n",
    "    friend modint operator+(const modint& lhs, const modint& rhs) {<br/>\n",
    "        return modint(lhs) += rhs;<br/>\n",
    "    }<br/>\n",
    "    // 二項演算子-の定義<br/>\n",
    "    friend modint operator-(const modint& lhs, const modint& rhs) {<br/>\n",
    "        return modint(lhs) -= rhs;<br/>\n",
    "    }<br/>\n",
    "    // 二項演算子*の定義<br/>\n",
    "    friend modint operator*(const modint& lhs, const modint& rhs) {<br/>\n",
    "        return modint(lhs) *= rhs;<br/>\n",
    "    }<br/>\n",
    "    // 二項演算子/の定義<br/>\n",
    "    friend modint operator/(const modint& lhs, const modint& rhs) {<br/>\n",
    "        return modint(lhs) /= rhs;<br/>\n",
    "    }<br/>\n",
    "    // 二項演算子==の定義<br/>\n",
    "    friend bool operator==(const modint& lhs, const modint& rhs) {<br/>\n",
    "        return lhs.val == rhs.val;<br/>\n",
    "    }<br/>\n",
    "    // 二項演算子!=の定義<br/>\n",
    "    friend bool operator!=(const modint& lhs, const modint& rhs) {<br/>\n",
    "        return lhs.val != rhs.val;<br/>\n",
    "    }<br/>\n",
    "    // 単項演算子+の定義<br/>\n",
    "    modint operator+() const { return *this; }<br/>\n",
    "    // 単項演算子-の定義<br/>\n",
    "    modint operator-() const { return modint() - *this; }<br/>\n",
    "    // cinによる入力<br/>\n",
    "    friend istream& operator>>(istream& is, modint& rhs) {<br/>\n",
    "        long long v;<br/>\n",
    "        istream& ret = is >> v;<br/>\n",
    "        if (v >= 0) {<br/>\n",
    "            if (v < mod) {<br/>\n",
    "                rhs.val = (unsigned int)(v);<br/>\n",
    "            } else {<br/>\n",
    "                rhs.val = (unsigned int)(v % (long long)mod);<br/>\n",
    "            }<br/>\n",
    "        } else {<br/>\n",
    "            if (-v > mod) {<br/>\n",
    "                rhs.val = (unsigned int)(v + mod);<br/>\n",
    "            } else {<br/>\n",
    "                rhs.val = (unsigned int)(v % (long long)mod + mod);<br/>\n",
    "            }<br/>\n",
    "        }<br/>\n",
    "        return ret;<br/>\n",
    "    }<br/>\n",
    "    // coutによる出力<br/>\n",
    "    friend ostream& operator<<(ostream& os, const modint& rhs) {<br/>\n",
    "        return os << rhs.val;<br/>\n",
    "    }<br/>\n",
    "    // powの定義、使う演算子は既にmodint内で定義しているのでintのときと同様でOK<br/>\n",
    "    modint pow(long long n) const {<br/>\n",
    "        modint x(val), r(1);<br/>\n",
    "        while (n) {<br/>\n",
    "            if (n & 1) r *= x;<br/>\n",
    "            x *= x;<br/>\n",
    "            n >>= 1;<br/>\n",
    "        }<br/>\n",
    "        return r;<br/>\n",
    "    }<br/>\n",
    "    // 逆元を出力<br/>\n",
    "    modint inv() const {<br/>\n",
    "        modint x(val), r(1);<br/>\n",
    "        unsigned int n = mod - 2;<br/>\n",
    "        while (n) {<br/>\n",
    "            if (n & 1) r *= x;<br/>\n",
    "            x *= x;<br/>\n",
    "            n >>= 1;<br/>\n",
    "        }<br/>\n",
    "        return r;<br/>\n",
    "    }<br/>\n",
    "    // modを出力<br/>\n",
    "    unsigned int mod_() const { return mod; }<br/>\n",
    "};<br/>\n",
    "<div/>"
   ]
  },
  {
   "cell_type": "markdown",
   "metadata": {},
   "source": [
    "## 6. verify"
   ]
  },
  {
   "cell_type": "markdown",
   "metadata": {},
   "source": [
    "特にしていません・・・"
   ]
  }
 ],
 "metadata": {
  "kernelspec": {
   "display_name": "Python 3",
   "language": "python",
   "name": "python3"
  },
  "language_info": {
   "codemirror_mode": {
    "name": "ipython",
    "version": 3
   },
   "file_extension": ".py",
   "mimetype": "text/x-python",
   "name": "python",
   "nbconvert_exporter": "python",
   "pygments_lexer": "ipython3",
   "version": "3.7.6"
  }
 },
 "nbformat": 4,
 "nbformat_minor": 4
}
